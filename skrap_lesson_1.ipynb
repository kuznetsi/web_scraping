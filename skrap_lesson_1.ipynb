{
 "cells": [
  {
   "cell_type": "code",
   "execution_count": 1,
   "metadata": {},
   "outputs": [],
   "source": [
    "import requests\n",
    "import json"
   ]
  },
  {
   "cell_type": "code",
   "execution_count": 23,
   "metadata": {},
   "outputs": [
    {
     "name": "stdout",
     "output_type": "stream",
     "text": [
      "https://api.github.com/users/kuznetsi/repos\n"
     ]
    }
   ],
   "source": [
    "# Стартовая ссылка сайта\n",
    "main_link = 'https://api.github.com'\n",
    "# Имя пользователя, репозитории которого хотим посмотреть\n",
    "username = 'kuznetsi'\n",
    "link = f'{main_link}/users/{username}/repos'\n",
    "print(link)\n",
    "req = requests.get(link)"
   ]
  },
  {
   "cell_type": "code",
   "execution_count": 22,
   "metadata": {},
   "outputs": [
    {
     "name": "stdout",
     "output_type": "stream",
     "text": [
      "https://github.com/kuznetsi/git-repo\n",
      "https://github.com/kuznetsi/LegislativeVersion\n",
      "https://github.com/kuznetsi/Python-for-Data-Science\n",
      "https://github.com/kuznetsi/PythonBasics\n",
      "https://github.com/kuznetsi/SearchRelatedDocuments\n",
      "https://github.com/kuznetsi/SiteParser\n",
      "https://github.com/kuznetsi/StartupIdeas\n",
      "https://github.com/kuznetsi/WidgetOutCustomPost\n"
     ]
    }
   ],
   "source": [
    "# Циклом пройдется по репозиториям и ведем все неприватные \n",
    "for repo in req.json():\n",
    "    if not repo['private']:\n",
    "        print(repo['html_url'])"
   ]
  }
 ],
 "metadata": {
  "kernelspec": {
   "display_name": "Python 3",
   "language": "python",
   "name": "python3"
  },
  "language_info": {
   "codemirror_mode": {
    "name": "ipython",
    "version": 3
   },
   "file_extension": ".py",
   "mimetype": "text/x-python",
   "name": "python",
   "nbconvert_exporter": "python",
   "pygments_lexer": "ipython3",
   "version": "3.7.3"
  }
 },
 "nbformat": 4,
 "nbformat_minor": 2
}
